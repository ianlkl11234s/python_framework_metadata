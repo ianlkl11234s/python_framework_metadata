{
 "cells": [
  {
   "cell_type": "code",
   "execution_count": 8,
   "metadata": {},
   "outputs": [
    {
     "name": "stdout",
     "output_type": "stream",
     "text": [
      "✅ 內文爬取並儲存完成！已儲存在 /Users/migu/Desktop/資料庫/gen_ai_try/ai_metadata/streamlit/multipage-apps-widgets.md\n"
     ]
    }
   ],
   "source": [
    "import requests\n",
    "from bs4 import BeautifulSoup\n",
    "from datetime import datetime\n",
    "\n",
    "def scrape_main_content_as_markdown(url, save_path):\n",
    "    # 下載頁面\n",
    "    response = requests.get(url)\n",
    "    response.raise_for_status()\n",
    "    soup = BeautifulSoup(response.text, 'html.parser')\n",
    "\n",
    "    # 加入 Metadata 區\n",
    "    markdown_lines = [\n",
    "        f\"---\",\n",
    "        f\"title: Streamlit Documentation Capture\",\n",
    "        f\"url: {url}\",\n",
    "        f\"date: {datetime.now().strftime('%Y-%m-%d %H:%M:%S')}\",\n",
    "        f\"---\\n\"\n",
    "    ]\n",
    "\n",
    "    # 找到「主內文區域」\n",
    "    # Streamlit docs 通常主內容會在 <main> 標籤下\n",
    "    main_content = soup.find('main')\n",
    "    if not main_content:\n",
    "        print(\"⚠️ 找不到 <main> 主內容區，可能頁面結構不同，請確認！\")\n",
    "        return\n",
    "\n",
    "    # 只抓 <main> 裡的內容（避免 sidebar / footer）\n",
    "    for element in main_content.find_all(['h1', 'h2', 'h3', 'h4', 'h5', 'h6', 'p', 'pre', 'code', 'ul', 'ol', 'li']):\n",
    "        if element.name in ['h1', 'h2', 'h3', 'h4', 'h5', 'h6']:\n",
    "            level = int(element.name[1])\n",
    "            markdown_lines.append(f\"{'#' * level} {element.get_text(strip=True)}\\n\")\n",
    "        elif element.name == 'p':\n",
    "            text = element.get_text(strip=True)\n",
    "            if text:\n",
    "                markdown_lines.append(text + '\\n')\n",
    "        elif element.name == 'pre':\n",
    "            code_text = element.get_text()\n",
    "            markdown_lines.append(f\"```python\\n{code_text}\\n```\\n\")\n",
    "        elif element.name == 'code':\n",
    "            # 單行 code 處理（通常是內文小標記）\n",
    "            code_inline = element.get_text(strip=True)\n",
    "            if code_inline:\n",
    "                markdown_lines.append(f\"`{code_inline}`\\n\")\n",
    "        elif element.name in ['ul', 'ol']:\n",
    "            for li in element.find_all('li'):\n",
    "                li_text = li.get_text(strip=True)\n",
    "                markdown_lines.append(f\"- {li_text}\")\n",
    "\n",
    "    # 合併成一個 markdown 字串\n",
    "    markdown_content = \"\\n\".join(markdown_lines)\n",
    "\n",
    "    # 儲存到指定路徑\n",
    "    with open(save_path, 'w', encoding='utf-8') as f:\n",
    "        f.write(markdown_content)\n",
    "\n",
    "    print(f\"✅ 內文爬取並儲存完成！已儲存在 {save_path}\")\n",
    "\n",
    "if __name__ == \"__main__\":\n",
    "    url = \"https://docs.streamlit.io/develop/concepts/multipage-apps/widgets\"\n",
    "    save_path = \"/Users/migu/Desktop/資料庫/gen_ai_try/ai_metadata/streamlit/multipage-apps-widgets.md\"\n",
    "    scrape_main_content_as_markdown(url, save_path)\n"
   ]
  }
 ],
 "metadata": {
  "kernelspec": {
   "display_name": "Python 3",
   "language": "python",
   "name": "python3"
  },
  "language_info": {
   "codemirror_mode": {
    "name": "ipython",
    "version": 3
   },
   "file_extension": ".py",
   "mimetype": "text/x-python",
   "name": "python",
   "nbconvert_exporter": "python",
   "pygments_lexer": "ipython3",
   "version": "3.12.5"
  }
 },
 "nbformat": 4,
 "nbformat_minor": 2
}
